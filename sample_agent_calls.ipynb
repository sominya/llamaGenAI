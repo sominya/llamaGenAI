{
 "cells": [
  {
   "cell_type": "code",
   "execution_count": 1,
   "metadata": {},
   "outputs": [],
   "source": [
    "from llama_index.core import SimpleDirectoryReader, VectorStoreIndex\n",
    "from llama_index.core.response.pprint_utils import pprint_response\n",
    "from llama_index.llms.openai import OpenAI\n",
    "\n",
    "from llama_index.core.tools import QueryEngineTool, ToolMetadata\n",
    "from llama_index.core.query_engine import SubQuestionQueryEngine\n",
    "from llama_index.core import Settings\n",
    "import os\n",
    "\n",
    "os.environ[\"OPENAI_API_KEY\"] = \"OPENAI_API_KEY\"\n",
    "\n",
    "\n",
    "\n",
    "Settings.llm = OpenAI(temperature=0.2, model=\"gpt-3.5-turbo\")"
   ]
  },
  {
   "cell_type": "code",
   "execution_count": 2,
   "metadata": {},
   "outputs": [
    {
     "name": "stdout",
     "output_type": "stream",
     "text": [
      "--2024-04-23 21:31:04--  https://raw.githubusercontent.com/run-llama/llama_index/main/docs/docs/examples/data/10q/uber_10q_march_2022.pdf\n",
      "Resolving raw.githubusercontent.com (raw.githubusercontent.com)... 2606:50c0:8001::154, 2606:50c0:8002::154, 2606:50c0:8000::154, ...\n",
      "Connecting to raw.githubusercontent.com (raw.githubusercontent.com)|2606:50c0:8001::154|:443... connected.\n",
      "HTTP request sent, awaiting response... 200 OK\n",
      "Length: 1260185 (1.2M) [application/octet-stream]\n",
      "Saving to: 'data/10q/uber_10q_march_2022.pdf'\n",
      "\n",
      "data/10q/uber_10q_m 100%[===================>]   1.20M  --.-KB/s    in 0.06s   \n",
      "\n",
      "2024-04-23 21:31:05 (20.8 MB/s) - 'data/10q/uber_10q_march_2022.pdf' saved [1260185/1260185]\n",
      "\n",
      "--2024-04-23 21:31:05--  https://raw.githubusercontent.com/run-llama/llama_index/main/docs/docs/examples/data/10q/uber_10q_june_2022.pdf\n",
      "Resolving raw.githubusercontent.com (raw.githubusercontent.com)... 2606:50c0:8001::154, 2606:50c0:8002::154, 2606:50c0:8000::154, ...\n",
      "Connecting to raw.githubusercontent.com (raw.githubusercontent.com)|2606:50c0:8001::154|:443... connected.\n",
      "HTTP request sent, awaiting response... 200 OK\n",
      "Length: 1238483 (1.2M) [application/octet-stream]\n",
      "Saving to: 'data/10q/uber_10q_june_2022.pdf'\n",
      "\n",
      "data/10q/uber_10q_j 100%[===================>]   1.18M  --.-KB/s    in 0.07s   \n",
      "\n",
      "2024-04-23 21:31:06 (16.8 MB/s) - 'data/10q/uber_10q_june_2022.pdf' saved [1238483/1238483]\n",
      "\n",
      "--2024-04-23 21:31:06--  https://raw.githubusercontent.com/run-llama/llama_index/main/docs/docs/examples/data/10q/uber_10q_sept_2022.pdf\n",
      "Resolving raw.githubusercontent.com (raw.githubusercontent.com)... 2606:50c0:8001::154, 2606:50c0:8002::154, 2606:50c0:8000::154, ...\n",
      "Connecting to raw.githubusercontent.com (raw.githubusercontent.com)|2606:50c0:8001::154|:443... connected.\n",
      "HTTP request sent, awaiting response... 200 OK\n",
      "Length: 1178622 (1.1M) [application/octet-stream]\n",
      "Saving to: 'data/10q/uber_10q_sept_2022.pdf'\n",
      "\n",
      "data/10q/uber_10q_s 100%[===================>]   1.12M  --.-KB/s    in 0.1s    \n",
      "\n",
      "2024-04-23 21:31:06 (10.7 MB/s) - 'data/10q/uber_10q_sept_2022.pdf' saved [1178622/1178622]\n",
      "\n"
     ]
    }
   ],
   "source": [
    "\n",
    "!mkdir -p 'data/10q/'\n",
    "!wget 'https://raw.githubusercontent.com/run-llama/llama_index/main/docs/docs/examples/data/10q/uber_10q_march_2022.pdf' -O 'data/10q/uber_10q_march_2022.pdf'\n",
    "!wget 'https://raw.githubusercontent.com/run-llama/llama_index/main/docs/docs/examples/data/10q/uber_10q_june_2022.pdf' -O 'data/10q/uber_10q_june_2022.pdf'\n",
    "!wget 'https://raw.githubusercontent.com/run-llama/llama_index/main/docs/docs/examples/data/10q/uber_10q_sept_2022.pdf' -O 'data/10q/uber_10q_sept_2022.pdf'\n",
    "\n"
   ]
  },
  {
   "cell_type": "code",
   "execution_count": 3,
   "metadata": {},
   "outputs": [],
   "source": [
    "# Load Data\n",
    "march_2022 = SimpleDirectoryReader(\n",
    "    input_files=[\"./data/10q/uber_10q_march_2022.pdf\"]\n",
    ").load_data()\n",
    "june_2022 = SimpleDirectoryReader(\n",
    "    input_files=[\"./data/10q/uber_10q_june_2022.pdf\"]\n",
    ").load_data()\n",
    "sept_2022 = SimpleDirectoryReader(\n",
    "    input_files=[\"./data/10q/uber_10q_sept_2022.pdf\"]\n",
    ").load_data()\n",
    "\n"
   ]
  },
  {
   "cell_type": "code",
   "execution_count": 4,
   "metadata": {},
   "outputs": [],
   "source": [
    "# Build Indices\n",
    "march_index = VectorStoreIndex.from_documents(march_2022)\n",
    "june_index = VectorStoreIndex.from_documents(june_2022)\n",
    "sept_index = VectorStoreIndex.from_documents(sept_2022)\n",
    "\n",
    "# Build Query Engine\n",
    "march_engine = march_index.as_query_engine(similarity_top_k=3)\n",
    "june_engine = june_index.as_query_engine(similarity_top_k=3)\n",
    "sept_engine = sept_index.as_query_engine(similarity_top_k=3)\n",
    "\n",
    "# Build List of query engines\n",
    "query_engine_tools = [\n",
    "    QueryEngineTool(\n",
    "        query_engine=sept_engine,\n",
    "        metadata=ToolMetadata(\n",
    "            name=\"sept_22\",\n",
    "            description=(\n",
    "                \"Provides information about Uber quarterly financials ending\"\n",
    "                \" September 2022\"\n",
    "            ),\n",
    "        ),\n",
    "    ),\n",
    "    QueryEngineTool(\n",
    "        query_engine=june_engine,\n",
    "        metadata=ToolMetadata(\n",
    "            name=\"june_22\",\n",
    "            description=(\n",
    "                \"Provides information about Uber quarterly financials ending\"\n",
    "                \" June 2022\"\n",
    "            ),\n",
    "        ),\n",
    "    ),\n",
    "    QueryEngineTool(\n",
    "        query_engine=march_engine,\n",
    "        metadata=ToolMetadata(\n",
    "            name=\"march_22\",\n",
    "            description=(\n",
    "                \"Provides information about Uber quarterly financials ending\"\n",
    "                \" March 2022\"\n",
    "            ),\n",
    "        ),\n",
    "    ),\n",
    "]\n",
    "\n",
    "# Buld Final Chained Query engine\n",
    "s_engine = SubQuestionQueryEngine.from_defaults(\n",
    "    query_engine_tools=query_engine_tools\n",
    ")"
   ]
  },
  {
   "cell_type": "code",
   "execution_count": 10,
   "metadata": {},
   "outputs": [
    {
     "name": "stdout",
     "output_type": "stream",
     "text": [
      "Generated 2 sub questions.\n",
      "\u001b[1;3;38;2;237;90;200m[sept_22] Q: What was Uber's revenue in the latest quarter ending September 2022?\n",
      "\u001b[0m\u001b[1;3;38;2;90;149;237m[june_22] Q: What was Uber's revenue in the previous quarter ending June 2022?\n",
      "\u001b[0m\u001b[1;3;38;2;237;90;200m[sept_22] A: Uber's revenue in the latest quarter ending September 2022 was $8.3 billion.\n",
      "\u001b[0m\u001b[1;3;38;2;90;149;237m[june_22] A: Uber's revenue in the previous quarter ending June 2022 was $8.1 billion.\n",
      "\u001b[0mUber's revenue grew from $8.1 billion in the previous quarter ending June 2022 to $8.3 billion in the latest quarter ending September 2022. Comparing these figures to the same period last year, there is an increase in revenue over the latest two quarter filings.\n"
     ]
    }
   ],
   "source": [
    "import nest_asyncio\n",
    "\n",
    "nest_asyncio.apply()\n",
    "response = s_engine.query(\n",
    "    \"Analyze Uber revenue growth over the latest two quarter filings over the same period last year\"\n",
    ")\n",
    "print(response)"
   ]
  },
  {
   "cell_type": "code",
   "execution_count": 7,
   "metadata": {},
   "outputs": [
    {
     "name": "stdout",
     "output_type": "stream",
     "text": [
      "Uber's revenue increased from $8,073 million in the quarter ending June 2022 to $8.3 billion in the latest quarter ending September 2022, indicating a growth in revenue over the two quarters.\n"
     ]
    }
   ],
   "source": [
    "print(response)"
   ]
  },
  {
   "cell_type": "code",
   "execution_count": 11,
   "metadata": {},
   "outputs": [
    {
     "name": "stdout",
     "output_type": "stream",
     "text": [
      "Generated 3 sub questions.\n",
      "\u001b[1;3;38;2;237;90;200m[sept_22] Q: What were the financial results for Uber in September 2022?\n",
      "\u001b[0m\u001b[1;3;38;2;90;149;237m[june_22] Q: What were the financial results for Uber in June 2022?\n",
      "\u001b[0m\u001b[1;3;38;2;11;159;203m[march_22] Q: What were the financial results for Uber in March 2022?\n",
      "\u001b[0m\u001b[1;3;38;2;90;149;237m[june_22] A: In June 2022, Uber reported a significant increase in revenue compared to the same period in 2021. The revenue for June 2022 was $8,073 million, representing a 105% increase from June 2021. Additionally, Uber experienced improvements in its operating performance, with a decrease in loss from operations compared to the previous year.\n",
      "\u001b[0m\u001b[1;3;38;2;11;159;203m[march_22] A: In March 2022, Uber reported revenue of $6.9 billion, representing a 136% increase compared to the same period in 2021. The net loss attributable to Uber Technologies, Inc. was $5.9 billion, which included various unrealized losses on debt and equity securities. Adjusted EBITDA was $168 million, showing an increase of $527 million compared to the same period in 2021. The company ended the quarter with $4.2 billion in unrestricted cash and cash equivalents.\n",
      "\u001b[0m\u001b[1;3;38;2;237;90;200m[sept_22] A: In September 2022, Uber reported revenue of $8.3 billion, which was a 72% increase compared to the same period in 2021. The net loss attributable to Uber Technologies, Inc. was $1.2 billion, which included various impacts such as an unrealized loss on debt and equity securities and stock-based compensation expenses. Adjusted EBITDA for the period was $516 million, showing a significant increase compared to the same period in 2021. Additionally, Uber ended the quarter with $4.9 billion in unrestricted cash and cash equivalents.\n",
      "\u001b[0mThe macro environment for Uber over the three quarters showed a positive trend in terms of revenue growth. From March to June 2022, there was a notable increase in revenue, with June 2022 showing the highest revenue at $8,073 million. This trend continued into September 2022, where revenue further increased to $8.3 billion. Despite the revenue growth, the net losses fluctuated over the quarters, with March 2022 showing the highest net loss of $5.9 billion, mainly due to unrealized losses on debt and equity securities. However, by September 2022, the net loss decreased to $1.2 billion. Adjusted EBITDA also improved over the quarters, with September 2022 showing the highest adjusted EBITDA at $516 million. Overall, the macro environment for Uber demonstrated revenue growth and improved adjusted EBITDA performance over the three quarters.\n"
     ]
    }
   ],
   "source": [
    "response = s_engine.query(\n",
    "    \"Analyze change in macro environment over the 3 quarters\"\n",
    ")\n",
    "print(response)"
   ]
  },
  {
   "cell_type": "code",
   "execution_count": 12,
   "metadata": {},
   "outputs": [
    {
     "name": "stdout",
     "output_type": "stream",
     "text": [
      "Generated 1 sub questions.\n",
      "\u001b[1;3;38;2;237;90;200m[sept_22] Q: What was the cash position of Uber in September 2022?\n",
      "\u001b[0m\u001b[1;3;38;2;237;90;200m[sept_22] A: Uber had $4.9 billion in cash and cash equivalents in September 2022, with $2.9 billion held by foreign subsidiaries and the remaining balance held in the United States.\n",
      "\u001b[0m"
     ]
    }
   ],
   "source": [
    "response = s_engine.query(\"How much cash did Uber have in sept 2022\")"
   ]
  },
  {
   "cell_type": "code",
   "execution_count": null,
   "metadata": {},
   "outputs": [],
   "source": []
  }
 ],
 "metadata": {
  "kernelspec": {
   "display_name": ".venv",
   "language": "python",
   "name": "python3"
  },
  "language_info": {
   "codemirror_mode": {
    "name": "ipython",
    "version": 3
   },
   "file_extension": ".py",
   "mimetype": "text/x-python",
   "name": "python",
   "nbconvert_exporter": "python",
   "pygments_lexer": "ipython3",
   "version": "3.9.18"
  }
 },
 "nbformat": 4,
 "nbformat_minor": 2
}
